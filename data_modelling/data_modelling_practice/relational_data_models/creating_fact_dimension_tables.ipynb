{
 "cells": [
  {
   "cell_type": "markdown",
   "source": [
    "# Connecting to the database\n",
    "- Import postgres library for python\n",
    "- Create a connection to the database\n",
    "- Get a cursor from the connection\n",
    "- Enable auto commit"
   ],
   "metadata": {}
  },
  {
   "cell_type": "code",
   "execution_count": 1,
   "source": [
    "import psycopg2"
   ],
   "outputs": [],
   "metadata": {}
  },
  {
   "cell_type": "code",
   "execution_count": 2,
   "source": [
    "try:\n",
    "    conn = psycopg2.connect(\"host=127.0.0.1 dbname=udacity user=postgres password=poklpokl\")\n",
    "except psycopg2.Error as e:\n",
    "    print(\"Error: Could not make connection to postgres database\")\n",
    "    print(e)"
   ],
   "outputs": [],
   "metadata": {}
  },
  {
   "cell_type": "markdown",
   "source": [
    "- Template for error handling\n",
    "try:\n",
    "\n",
    "except psycopg2.Error as e:\n",
    "    print(\"Error: \")\n",
    "    print(e)"
   ],
   "metadata": {}
  },
  {
   "cell_type": "code",
   "execution_count": 3,
   "source": [
    "try:\n",
    "    cur = conn.cursor()\n",
    "except psycopg2.Error as e:\n",
    "    print(\"Error: Unable to get cursor\")\n",
    "    print(e)"
   ],
   "outputs": [],
   "metadata": {}
  },
  {
   "cell_type": "code",
   "execution_count": 5,
   "source": [
    "try:\n",
    "    conn.set_session(autocommit=True)\n",
    "except psycopg2.Error as e:\n",
    "    print(\"Error: Unable to enable autocommit\")\n",
    "    print(e)"
   ],
   "outputs": [],
   "metadata": {}
  },
  {
   "cell_type": "code",
   "execution_count": 32,
   "source": [
    "try:\n",
    "    cur.execute(\"CREATE TABLE IF NOT EXISTS customer_transactions (customer_id int, store_id int, spent float);\")\n",
    "except psycopg2.Error as e:\n",
    "    print(\"Error: creating table\")\n",
    "    print(e)"
   ],
   "outputs": [],
   "metadata": {}
  },
  {
   "cell_type": "code",
   "execution_count": 33,
   "source": [
    "try:\n",
    "    cur.execute(\"INSERT INTO customer_transactions (customer_id, store_id, spent)\\\n",
    "        VALUES (%s,%s,%s)\", (1, 1, 20.5))\n",
    "except psycopg2.Error as e:\n",
    "    print(\"Error: Inserting into fact table\")\n",
    "    print(e)\n",
    "\n",
    "try:\n",
    "    cur.execute(\"INSERT INTO customer_transactions (customer_id, store_id, spent)\\\n",
    "        VALUES (%s,%s,%s)\", (2, 1, 35.5))\n",
    "except psycopg2.Error as e:\n",
    "    print(\"Error: Inserting into fact table\")\n",
    "    print(e)\n",
    "\n"
   ],
   "outputs": [],
   "metadata": {}
  },
  {
   "cell_type": "code",
   "execution_count": 11,
   "source": [
    "try:\n",
    "    cur.execute(\"CREATE TABLE IF NOT EXISTS items_purchased (customer_id int, item_number int, item_name varchar)\")\n",
    "except psycopg2 as e:\n",
    "    print(\"Error: creating table\")\n",
    "    print(e)\n",
    "\n",
    "try:\n",
    "    cur.execute(\"CREATE TABLE IF NOT EXISTS customer (customer_id int, name varchar, rewards bool)\")\n",
    "except psycopg2 as e:\n",
    "    print(\"Error: creating table\")\n",
    "    print(e)\n",
    "\n",
    "try:\n",
    "    cur.execute(\"CREATE TABLE IF NOT EXISTS store (store_id int, state varchar)\")\n",
    "except psycopg2 as e:\n",
    "    print(\"Error: creating table\")\n",
    "    print(e)\n"
   ],
   "outputs": [],
   "metadata": {}
  },
  {
   "cell_type": "code",
   "execution_count": 18,
   "source": [
    "try:\n",
    "    cur.execute(\"INSERT INTO items_purchased (customer_id, item_number, item_name)\\\n",
    "        VALUES (%s,%s,%s)\", (1, 1, \"Rubber Soul\"))\n",
    "except psycopg2.Error as e:\n",
    "    print(\"Error: Inserting into fact table\")\n",
    "    print(e)\n",
    "\n",
    "try:\n",
    "    cur.execute(\"INSERT INTO items_purchased (customer_id, item_number, item_name)\\\n",
    "        VALUES (%s,%s,%s)\", (2, 3, \"Let it Be\"))\n",
    "except psycopg2.Error as e:\n",
    "    print(\"Error: Inserting into fact table\")\n",
    "    print(e)\n"
   ],
   "outputs": [],
   "metadata": {}
  },
  {
   "cell_type": "code",
   "execution_count": 19,
   "source": [
    "try:\n",
    "    cur.execute(\"INSERT INTO customer (customer_id, name, rewards)\\\n",
    "        VALUES (%s,%s,%s)\", (1, \"Amanda\", True))\n",
    "except psycopg2.Error as e:\n",
    "    print(\"Error: Inserting into fact table\")\n",
    "    print(e)\n",
    "\n",
    "try:\n",
    "    cur.execute(\"INSERT INTO customer (customer_id, name, rewards)\\\n",
    "        VALUES (%s,%s,%s)\", (2, \"Toby\", False))\n",
    "except psycopg2.Error as e:\n",
    "    print(\"Error: Inserting into fact table\")\n",
    "    print(e)\n"
   ],
   "outputs": [],
   "metadata": {}
  },
  {
   "cell_type": "code",
   "execution_count": 21,
   "source": [
    "try:\n",
    "    cur.execute(\"INSERT INTO store (store_id, state)\\\n",
    "        VALUES (%s,%s)\", (1, \"CA\"))\n",
    "except psycopg2.Error as e:\n",
    "    print(\"Error: Inserting into fact table\")\n",
    "    print(e)\n",
    "\n",
    "try:\n",
    "    cur.execute(\"INSERT INTO store (store_id, state)\\\n",
    "        VALUES (%s,%s)\", (2, \"WA\"))\n",
    "except psycopg2.Error as e:\n",
    "    print(\"Error: Inserting into fact table\")\n",
    "    print(e)\n"
   ],
   "outputs": [],
   "metadata": {}
  },
  {
   "cell_type": "code",
   "execution_count": 39,
   "source": [
    "try:\n",
    "    cur.execute(\"SELECT name, store.store_id, store.state, item_name, customer.rewards FROM(((customer_transactions \\\n",
    "          JOIN customer ON customer_transactions.customer_id = customer.customer_id)\\\n",
    "          JOIN store ON customer_transactions.store_id = store.store_id)\\\n",
    "          JOIN items_purchased ON customer_transactions.customer_id = items_purchased.customer_id) where spent > 30\")\n",
    "except psycopg2.Error as e:\n",
    "    print(\"Error: Inserting into fact table\")\n",
    "    print(e)\n",
    "\n",
    "row = cur.fetchone()\n",
    "while row:\n",
    "   print(row)\n",
    "   row = cur.fetchone()"
   ],
   "outputs": [
    {
     "output_type": "stream",
     "name": "stdout",
     "text": [
      "('Toby', 1, 'CA', 'Let It Be', False)\n",
      "('Toby', 1, 'CA', 'Let it Be', False)\n"
     ]
    }
   ],
   "metadata": {}
  },
  {
   "cell_type": "code",
   "execution_count": null,
   "source": [],
   "outputs": [],
   "metadata": {}
  }
 ],
 "metadata": {
  "orig_nbformat": 4,
  "language_info": {
   "name": "python"
  }
 },
 "nbformat": 4,
 "nbformat_minor": 2
}